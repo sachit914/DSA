{
 "cells": [
  {
   "cell_type": "markdown",
   "metadata": {},
   "source": [
    "# Longest Common Prefix\n",
    "\n",
    "### example\n",
    "Input: strs = [\"flower\",\"flow\",\"flight\"]\n",
    "Output: \"fl\"\n",
    "\n",
    "\n",
    "### example 2\n",
    "Example 2:\n",
    "\n",
    "Input: strs = [\"dog\",\"racecar\",\"car\"]\n",
    "Output: \"\"\n",
    "Explanation: There is no common prefix among the input strings."
   ]
  },
  {
   "cell_type": "code",
   "execution_count": 5,
   "metadata": {},
   "outputs": [
    {
     "name": "stdout",
     "output_type": "stream",
     "text": [
      "fl\n"
     ]
    }
   ],
   "source": [
    "strs = [\"flower\",\"flow\",\"flight\"]\n",
    "\n",
    "prefix=strs[0]\n",
    "\n",
    "index=1\n",
    "\n",
    "while index < len(strs):\n",
    "    check=strs[index]\n",
    "    \n",
    "    while not check.startswith(prefix):\n",
    "        prefix = prefix[:-1]\n",
    "        if not prefix:\n",
    "            print(\"\")\n",
    "        \n",
    "    index=index +1\n",
    "    \n",
    "print(prefix)"
   ]
  },
  {
   "cell_type": "markdown",
   "metadata": {},
   "source": [
    "# Find the Index of the First Occurrence in a String\n",
    "\n",
    "Given two strings needle and haystack, return the index of the first occurrence of needle in haystack, or -1 if needle is not part of haystack.\n",
    "\n",
    "### Example 1:\n",
    "\n",
    "Input: haystack = \"sadbutsad\", needle = \"sad\"\n",
    "Output: 0\n",
    "Explanation: \"sad\" occurs at index 0 and 6.\n",
    "The first occurrence is at index 0, so we return 0."
   ]
  },
  {
   "cell_type": "code",
   "execution_count": 11,
   "metadata": {},
   "outputs": [
    {
     "name": "stdout",
     "output_type": "stream",
     "text": [
      "s\n",
      "a\n",
      "d\n"
     ]
    }
   ],
   "source": [
    "class Solution:\n",
    "    def strStr(self, haystack: str, needle: str) -> int:\n",
    "\n",
    "        n = len(haystack)\n",
    "        m = len(needle)\n",
    "        for i in range(n-m+1):\n",
    "            if haystack[i:i+m] == needle:\n",
    "                return i\n",
    "        return -1"
   ]
  },
  {
   "cell_type": "markdown",
   "metadata": {},
   "source": [
    "# Length of Last Word"
   ]
  },
  {
   "cell_type": "code",
   "execution_count": 20,
   "metadata": {},
   "outputs": [
    {
     "name": "stdout",
     "output_type": "stream",
     "text": [
      "5\n"
     ]
    }
   ],
   "source": [
    "s = \"Hello World\"\n",
    "lst=s.split()\n",
    "count=0\n",
    "for i in lst[-1]:\n",
    "    count=count+1\n",
    "    \n",
    "print(count)"
   ]
  },
  {
   "cell_type": "markdown",
   "metadata": {},
   "source": [
    "# check whether the string is Symmetrical or Palindrome"
   ]
  },
  {
   "cell_type": "code",
   "execution_count": 1,
   "metadata": {},
   "outputs": [
    {
     "name": "stdout",
     "output_type": "stream",
     "text": [
      "5\n",
      "khokho is not pallindrome\n",
      "The entered string is symmetrical\n"
     ]
    }
   ],
   "source": [
    "str='khokho'\n",
    "\n",
    "def check_pallindrome(str):\n",
    "    i=0\n",
    "    j=len(str)-1\n",
    "    print(j)\n",
    "    \n",
    "    pallindrome_flag=True\n",
    "    while i <= j:\n",
    "        if str[i] != str[j]:\n",
    "            print(str,'is not pallindrome')\n",
    "            pallindrome_flag=False\n",
    "            break\n",
    "        else:\n",
    "            pallindrome_flag=True\n",
    "        i = i+1\n",
    "        j=j-1\n",
    "    if pallindrome_flag == True:\n",
    "        print(str,\"is pallindrome\")\n",
    "            \n",
    "            \n",
    "def is_symmetrical(s):\n",
    "    length = len(s)\n",
    "    mid = length // 2\n",
    "    if length % 2 == 0:\n",
    "        return s[:mid] == s[mid:]\n",
    "    else:\n",
    "        return s[:mid] == s[mid+1:]\n",
    "            \n",
    "\n",
    "# str='amaama'\n",
    "str='khokho'\n",
    "\n",
    "check_pallindrome(str)\n",
    "\n",
    "is_symmetrical(str)\n",
    "if is_symmetrical(str):\n",
    "    print(\"The entered string is symmetrical\")\n",
    "else:\n",
    "    print(\"The entered string is not symmetrical\")"
   ]
  },
  {
   "cell_type": "markdown",
   "metadata": {},
   "source": [
    "# Reverse Words in a Given String in Python"
   ]
  },
  {
   "cell_type": "code",
   "execution_count": 9,
   "metadata": {},
   "outputs": [
    {
     "name": "stdout",
     "output_type": "stream",
     "text": [
      "['geeks', 'quiz', 'practice', 'code']\n",
      "code practice quiz geeks\n"
     ]
    }
   ],
   "source": [
    "str = \"geeks quiz practice code\"\n",
    "\n",
    "str=str.split()\n",
    "print(str)\n",
    "l=[]\n",
    "strfinal=\"\"\n",
    "for i in range(len(str)-1,-1,-1):\n",
    "    l.append(str[i])\n",
    "print(\" \".join(l))\n",
    "    "
   ]
  },
  {
   "cell_type": "markdown",
   "metadata": {},
   "source": [
    "# Avoid Spaces in string length"
   ]
  },
  {
   "cell_type": "code",
   "execution_count": 12,
   "metadata": {},
   "outputs": [
    {
     "name": "stdout",
     "output_type": "stream",
     "text": [
      "20\n"
     ]
    }
   ],
   "source": [
    "est_str = \"geeksforgeeks 33 best\"\n",
    "count=1\n",
    "for i in range(len(est_str)):\n",
    "    if est_str[i] != \" \":\n",
    "        count=count+1\n",
    "print(count)"
   ]
  },
  {
   "cell_type": "markdown",
   "metadata": {},
   "source": [
    "# program to check if a string has at least one letter and one number"
   ]
  },
  {
   "cell_type": "code",
   "execution_count": null,
   "metadata": {},
   "outputs": [],
   "source": [
    "def checkString(str):\n",
    " \n",
    "    # initializing flag variable\n",
    "    flag_l = False\n",
    "    flag_n = False\n",
    " \n",
    "    # checking for letter and numbers in\n",
    "    # given string\n",
    "    for i in str:\n",
    " \n",
    "        # if string has letter\n",
    "        if i.isalpha():\n",
    "            flag_l = True\n",
    " \n",
    "        # if string has number\n",
    "        if i.isdigit():\n",
    "            flag_n = True\n",
    " \n",
    "    # returning and of flag\n",
    "    # for checking required condition\n",
    "    return flag_l and flag_n\n",
    " \n",
    " \n",
    "# driver code\n",
    "print(checkString('thishasboth29'))\n",
    "print(checkString('geeksforgeeks'))"
   ]
  }
 ],
 "metadata": {
  "kernelspec": {
   "display_name": "Python 3",
   "language": "python",
   "name": "python3"
  },
  "language_info": {
   "codemirror_mode": {
    "name": "ipython",
    "version": 3
   },
   "file_extension": ".py",
   "mimetype": "text/x-python",
   "name": "python",
   "nbconvert_exporter": "python",
   "pygments_lexer": "ipython3",
   "version": "3.10.12"
  }
 },
 "nbformat": 4,
 "nbformat_minor": 2
}
