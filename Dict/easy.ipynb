{
 "cells": [
  {
   "cell_type": "markdown",
   "metadata": {},
   "source": [
    "# find the sum of all items in a dictionary"
   ]
  },
  {
   "cell_type": "code",
   "execution_count": 10,
   "metadata": {},
   "outputs": [
    {
     "name": "stdout",
     "output_type": "stream",
     "text": [
      "10 +20 +80 =110\n"
     ]
    }
   ],
   "source": [
    "input = {\n",
    "    'a':10,\n",
    "    'b':20,\n",
    "    'c':80\n",
    "}\n",
    "\n",
    "sum=0\n",
    "for values in input.values():\n",
    "    sum=sum+values\n",
    "    print(f\"{values} +\",end=\"\")\n",
    "print(f\"\\b={sum}\")\n",
    "    "
   ]
  },
  {
   "cell_type": "markdown",
   "metadata": {},
   "source": [
    "# Merge Two dict"
   ]
  },
  {
   "cell_type": "code",
   "execution_count": 12,
   "metadata": {},
   "outputs": [
    {
     "name": "stdout",
     "output_type": "stream",
     "text": [
      "None\n",
      "{'d': 6, 'c': 4, 'a': 10, 'b': 8}\n"
     ]
    }
   ],
   "source": [
    "def Merge(dict1, dict2):\n",
    "    return(dict2.update(dict1))\n",
    "\n",
    "\n",
    "# Driver code\n",
    "dict1 = {'a': 10, 'b': 8}\n",
    "dict2 = {'d': 6, 'c': 4}\n",
    "\n",
    "# This returns None\n",
    "print(Merge(dict1, dict2))\n",
    "\n",
    "# changes made in dict2\n",
    "print(dict2)\n"
   ]
  },
  {
   "cell_type": "markdown",
   "metadata": {},
   "source": [
    "# Key with maximum unique values"
   ]
  },
  {
   "cell_type": "code",
   "execution_count": 17,
   "metadata": {},
   "outputs": [
    {
     "name": "stdout",
     "output_type": "stream",
     "text": [
      "Key with maximum unique values: Gfg (5 unique values)\n"
     ]
    }
   ],
   "source": [
    "test_dict = {\"Gfg\" : [5, 7, 9, 4, 0], \"is\" : [6, 7, 4, 3, 3], \"Best\" : [9, 9, 6, 5, 5]} \n",
    "\n",
    "max_unique_count=0\n",
    "for key,values in test_dict.items():\n",
    "    unique_values=set(values)\n",
    "    length=len(unique_values)\n",
    "    \n",
    "    if length > max_unique_count:\n",
    "        max_unique_count=length\n",
    "        key_with_max_unique=key\n",
    "\n",
    "print(f\"Key with maximum unique values: {key_with_max_unique} ({max_unique_count} unique values)\")\n"
   ]
  },
  {
   "cell_type": "markdown",
   "metadata": {},
   "source": [
    "# Find all duplicate characters in string"
   ]
  },
  {
   "cell_type": "code",
   "execution_count": 27,
   "metadata": {},
   "outputs": [
    {
     "name": "stdout",
     "output_type": "stream",
     "text": [
      "duplicates element g : with duplicate count 1\n",
      "duplicates element e : with duplicate count 3\n",
      "duplicates element k : with duplicate count 1\n",
      "duplicates element s : with duplicate count 1\n"
     ]
    }
   ],
   "source": [
    "str=\"geeksforgeeks\"\n",
    "dict={}\n",
    "\n",
    "for char in str:\n",
    "    if char not in dict:\n",
    "        dict[char]=0\n",
    "    else:\n",
    "        dict[char]=dict[char]+1\n",
    "for key,values in dict.items():\n",
    "    if values > 0:\n",
    "        print(f\"duplicates element {key} : with duplicate count {values}\")\n",
    "        \n",
    "        \n",
    "    "
   ]
  },
  {
   "cell_type": "markdown",
   "metadata": {},
   "source": [
    "# Group Similar items to Dictionary Values List"
   ]
  },
  {
   "cell_type": "code",
   "execution_count": 31,
   "metadata": {},
   "outputs": [
    {
     "name": "stdout",
     "output_type": "stream",
     "text": [
      "{4: [4, 4, 4], 6: [6, 6], 2: [2, 2], 8: [8, 8], 5: [5]}\n"
     ]
    }
   ],
   "source": [
    "lst = [4,6,6,4,2,2,4,8,5,8]\n",
    "dict={}\n",
    "\n",
    "for i in lst:\n",
    "    if i not in dict:\n",
    "        dict[i] = []\n",
    "    dict[i].append(i)\n",
    " \n",
    "print(dict)"
   ]
  },
  {
   "cell_type": "markdown",
   "metadata": {},
   "source": [
    "# K’th Non-repeating Character "
   ]
  },
  {
   "cell_type": "code",
   "execution_count": 9,
   "metadata": {},
   "outputs": [
    {
     "name": "stdout",
     "output_type": "stream",
     "text": [
      "{'g': 2, 'e': 4, 'k': 2, 's': 2, 'f': 1, 'o': 1, 'r': 1}\n",
      "The 3-th non-repeating character is: r\n"
     ]
    }
   ],
   "source": [
    "# Input string and value of k\n",
    "s = 'geeksforgeeks'\n",
    "k = 3\n",
    "\n",
    "# Step 1: Count the occurrences of each character\n",
    "char_count = {}\n",
    "for char in s:\n",
    "    if char in char_count:\n",
    "        char_count[char] += 1\n",
    "    else:\n",
    "        char_count[char] = 1\n",
    "\n",
    "# Step 2: Find the K-th non-repeating character\n",
    "non_repeating_chars = []\n",
    "for char in s:\n",
    "    if char_count[char] == 1:\n",
    "        non_repeating_chars.append(char)\n",
    "    if len(non_repeating_chars) == k:\n",
    "        break\n",
    "    \n",
    "print(char_count)\n",
    "\n",
    "# Output the K-th non-repeating character\n",
    "if len(non_repeating_chars) >= k:\n",
    "    print(f\"The {k}-th non-repeating character is: {non_repeating_chars[k-1]}\")\n",
    "else:\n",
    "    print(f\"There are less than {k} non-repeating characters.\")\n"
   ]
  }
 ],
 "metadata": {
  "kernelspec": {
   "display_name": "Python 3",
   "language": "python",
   "name": "python3"
  },
  "language_info": {
   "codemirror_mode": {
    "name": "ipython",
    "version": 3
   },
   "file_extension": ".py",
   "mimetype": "text/x-python",
   "name": "python",
   "nbconvert_exporter": "python",
   "pygments_lexer": "ipython3",
   "version": "3.10.12"
  }
 },
 "nbformat": 4,
 "nbformat_minor": 2
}
