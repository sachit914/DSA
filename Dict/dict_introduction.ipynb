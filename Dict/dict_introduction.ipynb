{
 "cells": [
  {
   "cell_type": "code",
   "execution_count": 23,
   "metadata": {},
   "outputs": [
    {
     "name": "stdout",
     "output_type": "stream",
     "text": [
      "{'name': 'jack', 'id': 88, 'country': 'USA', 'personal_info': {'phone': 1233456, 'gender': 'male'}}\n",
      "jack\n",
      "male\n"
     ]
    }
   ],
   "source": [
    "person={\n",
    "    \"name\":\"jack\",\n",
    "    \"id\":88,\n",
    "    \"country\":'USA',\n",
    "    \"personal_info\":{\"phone\":1233456,\"gender\":\"male\"}\n",
    "}\n",
    "print(person)\n",
    "print(person[\"name\"])\n",
    "print(person['personal_info']['gender'])\n"
   ]
  },
  {
   "cell_type": "code",
   "execution_count": 1,
   "metadata": {},
   "outputs": [
    {
     "name": "stdout",
     "output_type": "stream",
     "text": [
      "{0: 'first', 1: 'seco'}\n",
      "{0: 'first', 1: 'second'}\n"
     ]
    }
   ],
   "source": [
    "dict={}\n",
    "# add item to dict\n",
    "dict[0]=\"first\"\n",
    "dict[1]=\"seco\"\n",
    "print(dict)\n",
    "\n",
    "#update dict values\n",
    "dict[1]=\"second\"\n",
    "print(dict)"
   ]
  },
  {
   "cell_type": "code",
   "execution_count": 24,
   "metadata": {},
   "outputs": [
    {
     "name": "stdout",
     "output_type": "stream",
     "text": [
      "first\n",
      "{0: 'first'}\n"
     ]
    }
   ],
   "source": [
    "# Access a Value in Dictionary using get()\n",
    "print(dict.get(0))\n",
    "\n",
    "# Deleting Elements using ‘del’ Keyword\n",
    "del(dict[1]) \n",
    "print(dict)"
   ]
  },
  {
   "cell_type": "code",
   "execution_count": 4,
   "metadata": {},
   "outputs": [
    {
     "name": "stdout",
     "output_type": "stream",
     "text": [
      "dict_items([(0, 'first'), (1, 'second')])\n",
      "dict_values(['first', 'second'])\n",
      "dict_keys([0, 1])\n"
     ]
    }
   ],
   "source": [
    "print(dict.items())\n",
    "print(dict.values())\n",
    "print(dict.keys())"
   ]
  },
  {
   "cell_type": "code",
   "execution_count": 6,
   "metadata": {},
   "outputs": [
    {
     "name": "stdout",
     "output_type": "stream",
     "text": [
      " 0 : first\n",
      " 1 : second\n"
     ]
    }
   ],
   "source": [
    "#  using loop to iterate through all keys\n",
    "\n",
    "for key,value in dict.items():\n",
    "    print(f\" {key} : {value}\")"
   ]
  },
  {
   "cell_type": "markdown",
   "metadata": {},
   "source": [
    "```\n",
    "Method                                        Description\n",
    "--------------------------------------------------------------\n",
    "dict()                                        This function is used to create a new dictionary or convert other iterable objects into a dictionary.\n",
    "\n",
    "dict.clear()                                  Remove all the elements from the dictionary.\n",
    "\n",
    "dict.copy()                                   Returns a copy of the dictionary.\n",
    "\n",
    "dict.get(key, default = “None”)               Returns the value of specified key.\n",
    "\n",
    "dict.items()                                  Returns a list containing a tuple for each key-value pair.\n",
    "\n",
    "dict.keys()                                   Returns a list containing dictionary’s keys.\n",
    "\n",
    "dict.update(dict2)                            Updates dictionary with specified key-value pairs.\n",
    "\n",
    "dict.values()                                 Returns a list of all the values of the dictionary.\n",
    "\n",
    "pop()                                         Remove the element with specified key.\n",
    "\n",
    "popitem()                                     Removes the last inserted key-value pair.\n",
    "\n",
    "dict.setdefault(key, default = “None”)        Set the key to the default value if the key is not specified in the dictionary.\n",
    "\n",
    "dict.has_key(key)                            Returns true if the dictionary contains the specified key.\n",
    "```"
   ]
  },
  {
   "cell_type": "code",
   "execution_count": null,
   "metadata": {},
   "outputs": [],
   "source": []
  }
 ],
 "metadata": {
  "kernelspec": {
   "display_name": "Python 3",
   "language": "python",
   "name": "python3"
  },
  "language_info": {
   "codemirror_mode": {
    "name": "ipython",
    "version": 3
   },
   "file_extension": ".py",
   "mimetype": "text/x-python",
   "name": "python",
   "nbconvert_exporter": "python",
   "pygments_lexer": "ipython3",
   "version": "3.10.12"
  }
 },
 "nbformat": 4,
 "nbformat_minor": 2
}
