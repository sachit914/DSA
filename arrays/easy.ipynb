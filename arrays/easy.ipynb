{
 "cells": [
  {
   "cell_type": "markdown",
   "metadata": {},
   "source": [
    "# Find second largest element in unsorted array"
   ]
  },
  {
   "cell_type": "code",
   "execution_count": 68,
   "metadata": {},
   "outputs": [
    {
     "name": "stdout",
     "output_type": "stream",
     "text": [
      "First largest element is: 9\n",
      "Second largest element is: 7\n"
     ]
    }
   ],
   "source": [
    "lst=[1,3,7,3,6,9]\n",
    "\n",
    "first_largest=float('-inf')\n",
    "secondlargest=float('-inf')\n",
    "\n",
    "for i in range(len(lst)):\n",
    "\tif lst[i] > first_largest and lst[i] > secondlargest:\n",
    "\t\tsecondlargest=first_largest\n",
    "\t\tfirst_largest=lst[i]\n",
    "\telif lst[i] > secondlargest and lst[i]<first_largest:\n",
    "\t\tsecondlargest=lst[i]\n",
    "  \n",
    "print(f\"First largest element is: {first_largest}\")\n",
    "print(f\"Second largest element is: {secondlargest}\")\n",
    "     \n",
    "     \n",
    "     \n",
    "     "
   ]
  },
  {
   "cell_type": "markdown",
   "metadata": {},
   "source": [
    "# Check If Array is sorted"
   ]
  },
  {
   "cell_type": "code",
   "execution_count": 69,
   "metadata": {},
   "outputs": [
    {
     "name": "stdout",
     "output_type": "stream",
     "text": [
      "[1, 2, 3, 4, 5, 6, 7, 1]: array is not sorted\n"
     ]
    }
   ],
   "source": [
    "lst=[1,2,3,4,5,6,7,1]\n",
    "is_sorted_flag=False\n",
    "\n",
    "for i in range(len(lst)-1):\n",
    "\tif lst[i]<lst[i+1]:\n",
    "         is_sorted_flag=True\n",
    "\telse:\n",
    "\t\t is_sorted_flag=False\n",
    "   \n",
    "if is_sorted_flag:\n",
    "    print(f\"{lst}:  array is sorted \")\n",
    "else:\n",
    "    print(f\"{lst}: array is not sorted\")\n"
   ]
  },
  {
   "cell_type": "markdown",
   "metadata": {},
   "source": [
    "# Remove duplicates in sorted array"
   ]
  },
  {
   "cell_type": "code",
   "execution_count": 70,
   "metadata": {},
   "outputs": [
    {
     "name": "stdout",
     "output_type": "stream",
     "text": [
      "array without duplicates\n",
      "1 2 3 4 "
     ]
    }
   ],
   "source": [
    "lst=[1,1,2,2,3,3,3,4]\n",
    "\n",
    "i=0\n",
    "for j in range(len(lst)):\n",
    "    if lst[i]!=lst[j]:\n",
    "        i=i+1\n",
    "        lst[i]=lst[j]\n",
    "        \n",
    "print('array without duplicates')\n",
    "for k in range(i+1):\n",
    "    print(lst[k],end=' ')"
   ]
  },
  {
   "cell_type": "markdown",
   "metadata": {},
   "source": [
    "# Left And Right Rotate array by 1"
   ]
  },
  {
   "cell_type": "code",
   "execution_count": 71,
   "metadata": {},
   "outputs": [
    {
     "name": "stdout",
     "output_type": "stream",
     "text": [
      "left rotate by One: [2, 3, 4, 5, 6, 7, 1] \n",
      "Right rotate by One: [7, 1, 2, 3, 4, 5, 6] "
     ]
    }
   ],
   "source": [
    "def leftRotateByOne(lst):\n",
    "    temp=lst[0]\n",
    "    for i in range(1,len(lst)):\n",
    "        lst[i-1]=lst[i]\n",
    "    lst[-1]=temp\n",
    "    \n",
    "    print(f\"left rotate by One: {lst}\",end=' ')\n",
    "        \n",
    "def RightRotateByOne(lst):\n",
    "    temp=lst[-1]\n",
    "    for i in range(len(lst)-1,0,-1):   # Start from len(lst) - 1 down to 1\n",
    "       lst[i]=lst[i-1]\n",
    "    lst[0]=temp\n",
    "    print()\n",
    "    print(f\"Right rotate by One: {lst}\",end=' ')\n",
    "\n",
    "    \n",
    "lst=[1,2,3,4,5,6,7]\n",
    "leftRotateByOne(lst)\n",
    "lst=[1,2,3,4,5,6,7]\n",
    "RightRotateByOne(lst)"
   ]
  },
  {
   "cell_type": "markdown",
   "metadata": {},
   "source": [
    "# Right and left Rotate by k "
   ]
  },
  {
   "cell_type": "code",
   "execution_count": 72,
   "metadata": {},
   "outputs": [
    {
     "name": "stdout",
     "output_type": "stream",
     "text": [
      "original list [1, 2, 3, 4, 5, 6, 7] before left rotate\n",
      "after right rotate by 16 [6, 7, 1, 2, 3, 4, 5]\n",
      "------------------------------------------------------\n",
      "original list [1, 2, 3, 4, 5, 6] before right rotate\n",
      "left rotate by 3: [4, 5, 6, 1, 2, 3]\n"
     ]
    }
   ],
   "source": [
    "def rightRotate(lst,k):\n",
    "    length=len(lst)\n",
    "    k=k%length\n",
    "    \n",
    "    # Temporary list to store the last k elements\n",
    "    temp=[]\n",
    "    for i in range(length-k,length):\n",
    "        temp.append(lst[i])\n",
    "    \n",
    "    # shift by 2 to right\n",
    "    for i in range(length-k-1,-1,-1):\n",
    "        lst[i+k]=lst[i]\n",
    "    \n",
    "    # add the temp array to first 2 position\n",
    "    for i in range(k):\n",
    "        lst[i]=temp[i]\n",
    "        \n",
    "    print(f\"after right rotate by 16 {lst}\")\n",
    "        \n",
    "        \n",
    "def leftRotate(lst,k):\n",
    "    length=len(lst)\n",
    "    # k=k%length\n",
    "    \n",
    "    temp=[]\n",
    "    for i in range(length-k):\n",
    "        temp.append(lst[i])\n",
    "                \n",
    "    # left shift by 3\n",
    "    for i in range(length-k,length):\n",
    "        lst[i-k]=lst[i]\n",
    "        \n",
    "    for i in range(length-k,length):\n",
    "        lst[i]=temp[i-k]\n",
    "        \n",
    "    print(f\"left rotate by 3: {lst}\")\n",
    "    \n",
    "    \n",
    "lst=[1,2,3,4,5,6,7]\n",
    "k = 16\n",
    "print(f\"original list {lst} before left rotate\")\n",
    "rightRotate(lst,k)\n",
    "print(\"------------------------------------------------------\")\n",
    "\n",
    "lst=[1,2,3,4,5,6]\n",
    "k = 3\n",
    "print(f\"original list {lst} before right rotate\")\n",
    "leftRotate(lst,k)"
   ]
  },
  {
   "cell_type": "markdown",
   "metadata": {},
   "source": [
    "# Move all zeros to end"
   ]
  },
  {
   "cell_type": "code",
   "execution_count": 73,
   "metadata": {},
   "outputs": [
    {
     "name": "stdout",
     "output_type": "stream",
     "text": [
      "[1, 2, 3, 4, 1, 0, 0, 0]\n"
     ]
    }
   ],
   "source": [
    "lst=[1,0,2,3,0,4,0,1]\n",
    "\n",
    "# find first apperance of zero\n",
    "i=0\n",
    "for k in range(len(lst)):\n",
    "    if lst[k]==0:\n",
    "        i=k\n",
    "        break\n",
    "\n",
    "for j in range(i,len(lst)):\n",
    "    if lst[j]==0:\n",
    "        pass\n",
    "    else:\n",
    "        lst[i]=lst[j]\n",
    "        lst[j]=0\n",
    "        i=i+1\n",
    "print(lst)"
   ]
  },
  {
   "cell_type": "markdown",
   "metadata": {},
   "source": [
    "# Union Of Two sorted Arrays"
   ]
  },
  {
   "cell_type": "code",
   "execution_count": 74,
   "metadata": {},
   "outputs": [
    {
     "name": "stdout",
     "output_type": "stream",
     "text": [
      "[1, 2, 3, 4, 5, 6]\n"
     ]
    }
   ],
   "source": [
    "arr1=[1,2,3,6]\n",
    "arr2=[3,4,5]\n",
    "\n",
    "union=[]\n",
    "\n",
    "i=0  # pointer for arr1\n",
    "j=0  # pointer for arr2\n",
    "\n",
    "while i <len(arr1) and j<len(arr2):\n",
    "    if arr1[i]<= arr2[j]:\n",
    "        if len(union)==0 or union[-1]!=arr1[i]:\n",
    "            union.append(arr1[i])\n",
    "            \n",
    "        i=i+1\n",
    "    elif arr2[j] <= arr1[i]:\n",
    "        if len(union) == 0 or union[-1]!=arr2[j]:\n",
    "            union.append(arr2[j])\n",
    "        j=j+1\n",
    "        \n",
    "# add If any elements left in arr1\n",
    "while i < len(arr1):\n",
    "    if len(union)==0 or union[-1] != arr1[i]:\n",
    "        union.append(arr1[i])\n",
    "    i = i+1\n",
    "    \n",
    "# add If any elements left in arr2\n",
    "while j < len(arr2):\n",
    "    if len(union)==0 or union[-1] != arr1[j]:\n",
    "        union.append(arr2[j])\n",
    "    i = i+1\n",
    "print(union)\n"
   ]
  },
  {
   "cell_type": "code",
   "execution_count": null,
   "metadata": {},
   "outputs": [],
   "source": [
    "# for union we can use dict also hashmap"
   ]
  },
  {
   "cell_type": "markdown",
   "metadata": {},
   "source": [
    "# Find the missing number in array"
   ]
  },
  {
   "cell_type": "code",
   "execution_count": 79,
   "metadata": {},
   "outputs": [
    {
     "name": "stdout",
     "output_type": "stream",
     "text": [
      "missing num is 4\n"
     ]
    }
   ],
   "source": [
    "# Sum of first N numbers(S1) = (N*(N+1))/2\n",
    "\n",
    "lst=[1,2,3,5]\n",
    "length=len(lst)\n",
    "n=5\n",
    "\n",
    "sum_of_n_num=(n*(n+1))//2\n",
    "sum=0\n",
    "for i in range(length):\n",
    "    sum=sum+lst[i]\n",
    "\n",
    "missing=sum_of_n_num-sum\n",
    "\n",
    "print(f\"missing num is {missing}\")\n"
   ]
  },
  {
   "cell_type": "markdown",
   "metadata": {},
   "source": [
    "# Count Maximum Consecutive One's in the array"
   ]
  },
  {
   "cell_type": "code",
   "execution_count": 84,
   "metadata": {},
   "outputs": [
    {
     "name": "stdout",
     "output_type": "stream",
     "text": [
      "3\n"
     ]
    }
   ],
   "source": [
    "lst=[1,1,0,1,1,1]\n",
    "\n",
    "max_count=0\n",
    "count=0\n",
    "for i in range(len(lst)):\n",
    "    if lst[i]==1:\n",
    "        count=count+1\n",
    "    else:\n",
    "        count=0\n",
    "    max_count = max(max_count, count)\n",
    "print(max_count)"
   ]
  },
  {
   "cell_type": "markdown",
   "metadata": {},
   "source": [
    "Find the number that appears once, and the other numbers twice"
   ]
  },
  {
   "cell_type": "code",
   "execution_count": null,
   "metadata": {},
   "outputs": [],
   "source": [
    "# use dict "
   ]
  },
  {
   "cell_type": "markdown",
   "metadata": {},
   "source": [
    "# Longest Subarray with given Sum K(Positives)"
   ]
  },
  {
   "cell_type": "code",
   "execution_count": 98,
   "metadata": {},
   "outputs": [
    {
     "name": "stdout",
     "output_type": "stream",
     "text": [
      "maximum subarray with sum k [5, -1, 2] : and length :3\n"
     ]
    }
   ],
   "source": [
    "lst=[2,5,-1,2,6,10]\n",
    "k=6\n",
    "\n",
    "max_count=0\n",
    "# sum=0\n",
    "for i in range(len(lst)):\n",
    "    sum=0\n",
    "    count=0\n",
    "    for j in range(i,len(lst)):\n",
    "        sum=sum+lst[j]\n",
    "        count=count+1\n",
    "        if sum > k:\n",
    "            break\n",
    "        if sum == k:\n",
    "            # max_count=max(max_count,count)\n",
    "            if max_count < count:\n",
    "                max_count=count\n",
    "                start=i\n",
    "                end=j\n",
    "                break\n",
    "            \n",
    "ele=[]\n",
    "for i in range(start,end+1):\n",
    "    ele.append(lst[i])\n",
    "print(f\"maximum subarray with sum k {ele} : and length :{max_count}\")\n",
    "        "
   ]
  },
  {
   "cell_type": "markdown",
   "metadata": {},
   "source": [
    "# Two Sum : Check if a pair with given sum exists in Array"
   ]
  },
  {
   "cell_type": "code",
   "execution_count": 100,
   "metadata": {},
   "outputs": [
    {
     "name": "stdout",
     "output_type": "stream",
     "text": [
      "2 + 6 = 8\n"
     ]
    }
   ],
   "source": [
    "lst=[2,6,5,8,11]\n",
    "target=8\n",
    "\n",
    "for i in range(len(lst)):\n",
    "    for j in range(i,len(lst)):\n",
    "        if lst[i]+lst[j]==target:\n",
    "            print(f\"{lst[i]} + {lst[j]} = {target}\")"
   ]
  },
  {
   "cell_type": "code",
   "execution_count": null,
   "metadata": {},
   "outputs": [],
   "source": [
    "# approach 2 using hastable or dict "
   ]
  },
  {
   "cell_type": "markdown",
   "metadata": {},
   "source": [
    "# Sort an array of 0s, 1s and 2s"
   ]
  },
  {
   "cell_type": "code",
   "execution_count": null,
   "metadata": {},
   "outputs": [],
   "source": []
  },
  {
   "cell_type": "markdown",
   "metadata": {},
   "source": [
    "# Find the Majority Element that occurs more than N/2 times"
   ]
  },
  {
   "cell_type": "code",
   "execution_count": 9,
   "metadata": {},
   "outputs": [
    {
     "name": "stdout",
     "output_type": "stream",
     "text": [
      "1\n",
      "3 appeared more than N/2 times :2\n"
     ]
    }
   ],
   "source": [
    "lst=[3,2,3]\n",
    "\n",
    "dict={}\n",
    "\n",
    "for i in lst:\n",
    "    if i not in dict:\n",
    "        dict[i]=1\n",
    "    else:\n",
    "        dict[i]=dict[i]+1\n",
    "\n",
    "n=len(lst)//2\n",
    "        \n",
    "for key,value in dict.items():\n",
    "    if value > n:\n",
    "        print(f\"{key} appeared more than N/2 times :{value}\")\n",
    "    "
   ]
  },
  {
   "cell_type": "markdown",
   "metadata": {},
   "source": [
    "# Kadane's Algorithm : Maximum Subarray Sum in an Array"
   ]
  },
  {
   "cell_type": "code",
   "execution_count": 10,
   "metadata": {},
   "outputs": [
    {
     "name": "stdout",
     "output_type": "stream",
     "text": [
      "4, -1, 2, 1 gives maximum sum of 6\n"
     ]
    }
   ],
   "source": [
    "arr = [-2,1,-3,4,-1,2,1,-5,4]\n",
    "\n",
    "max_sum=0\n",
    "for i in range(len(arr)):\n",
    "    sum=0\n",
    "    for j in range(i,len(arr)):\n",
    "        sum=sum+arr[j]\n",
    "        if sum>max_sum:\n",
    "            max_sum=sum\n",
    "            startIndex=i\n",
    "            endIndex=j\n",
    "\n",
    "for k in  range(startIndex,endIndex+1):\n",
    "    print(f\"{arr[k]},\",end=' ')\n",
    "    \n",
    "print(f\"\\b\\b gives maximum sum of {max_sum}\")"
   ]
  },
  {
   "cell_type": "markdown",
   "metadata": {},
   "source": [
    "# Set Matrix Zero"
   ]
  },
  {
   "cell_type": "code",
   "execution_count": 18,
   "metadata": {},
   "outputs": [
    {
     "name": "stdout",
     "output_type": "stream",
     "text": [
      "101\n",
      "000\n",
      "101\n"
     ]
    }
   ],
   "source": [
    "#mark all elements of row with -1 \n",
    "def markRow(matrix,column_length,i):\n",
    "    for k in range(column_length):\n",
    "        matrix[i][k]=-1\n",
    "   \n",
    "#mark all elements of column with -1     \n",
    "def markColumn(matrix,row_length,j):\n",
    "    for k in range(row_length):\n",
    "        matrix[k][j]=-1\n",
    "\n",
    "def zeromatrix(matrix,row_length,column_length):\n",
    "    for i in range(row_length):\n",
    "        for j in range(column_length):\n",
    "            if matrix[i][j]==0:\n",
    "                markRow(matrix,column_length,i)\n",
    "                markColumn(matrix,row_length,j)\n",
    "                \n",
    "    # mark all -1 to 0\n",
    "    for i in range(row_length):\n",
    "        for j in range(column_length):\n",
    "            if matrix[i][j]==-1:\n",
    "                matrix[i][j]=0\n",
    "\n",
    "    #display matix output\n",
    "    for i in range(row_length):\n",
    "        for j in range(column_length):\n",
    "            print(matrix[i][j],end='')\n",
    "        print()\n",
    "matrix=[[1,1,1],[1,0,1],[1,1,1]]\n",
    "row_length=len(matrix)\n",
    "column_length=len(matrix[0])\n",
    "\n",
    "# print(row_length,column_length)\n",
    "\n",
    "zeromatrix(matrix,row_length,column_length)\n",
    " "
   ]
  }
 ],
 "metadata": {
  "kernelspec": {
   "display_name": "Python 3",
   "language": "python",
   "name": "python3"
  },
  "language_info": {
   "codemirror_mode": {
    "name": "ipython",
    "version": 3
   },
   "file_extension": ".py",
   "mimetype": "text/x-python",
   "name": "python",
   "nbconvert_exporter": "python",
   "pygments_lexer": "ipython3",
   "version": "3.10.12"
  }
 },
 "nbformat": 4,
 "nbformat_minor": 2
}
